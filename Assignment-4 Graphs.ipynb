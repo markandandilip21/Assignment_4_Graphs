{
 "cells": [
  {
   "cell_type": "code",
   "execution_count": 2,
   "id": "01426406",
   "metadata": {},
   "outputs": [
    {
     "name": "stdout",
     "output_type": "stream",
     "text": [
      "BFS starting from vertex 2:\n",
      "2 0 3 1 "
     ]
    }
   ],
   "source": [
    "#1.Breadth First Traversal for a Graph\n",
    "from collections import defaultdict, deque\n",
    "\n",
    "class Graph:\n",
    "    def __init__(self):\n",
    "        self.graph = defaultdict(list)\n",
    "\n",
    "    def add_edge(self, u, v):\n",
    "        self.graph[u].append(v)\n",
    "\n",
    "    def bfs(self, start):\n",
    "        visited = [False] * (max(self.graph) + 1)\n",
    "        queue = deque()\n",
    "        queue.append(start)\n",
    "        visited[start] = True\n",
    "\n",
    "        while queue:\n",
    "            node = queue.popleft()\n",
    "            print(node, end=' ')\n",
    "\n",
    "            for neighbor in self.graph[node]:\n",
    "                if not visited[neighbor]:\n",
    "                    queue.append(neighbor)\n",
    "                    visited[neighbor] = True\n",
    "\n",
    "# Example usage:\n",
    "g = Graph()\n",
    "g.add_edge(0, 1)\n",
    "g.add_edge(0, 2)\n",
    "g.add_edge(1, 2)\n",
    "g.add_edge(2, 0)\n",
    "g.add_edge(2, 3)\n",
    "g.add_edge(3, 3)\n",
    "print(\"BFS starting from vertex 2:\")\n",
    "g.bfs(2)\n"
   ]
  },
  {
   "cell_type": "code",
   "execution_count": 3,
   "id": "a7cd0eb3",
   "metadata": {},
   "outputs": [
    {
     "name": "stdout",
     "output_type": "stream",
     "text": [
      "DFS starting from vertex 2:\n",
      "2 0 1 3 "
     ]
    }
   ],
   "source": [
    "#2.Depth First Traversal for a Graph\n",
    "class Graph:\n",
    "    def __init__(self):\n",
    "        self.graph = defaultdict(list)\n",
    "\n",
    "    def add_edge(self, u, v):\n",
    "        self.graph[u].append(v)\n",
    "\n",
    "    def dfs_util(self, node, visited):\n",
    "        visited[node] = True\n",
    "        print(node, end=' ')\n",
    "\n",
    "        for neighbor in self.graph[node]:\n",
    "            if not visited[neighbor]:\n",
    "                self.dfs_util(neighbor, visited)\n",
    "\n",
    "    def dfs(self, start):\n",
    "        visited = [False] * (max(self.graph) + 1)\n",
    "        self.dfs_util(start, visited)\n",
    "\n",
    "# Example usage:\n",
    "g = Graph()\n",
    "g.add_edge(0, 1)\n",
    "g.add_edge(0, 2)\n",
    "g.add_edge(1, 2)\n",
    "g.add_edge(2, 0)\n",
    "g.add_edge(2, 3)\n",
    "g.add_edge(3, 3)\n",
    "print(\"DFS starting from vertex 2:\")\n",
    "g.dfs(2)\n"
   ]
  },
  {
   "cell_type": "code",
   "execution_count": 8,
   "id": "d4f0c142",
   "metadata": {},
   "outputs": [
    {
     "name": "stdout",
     "output_type": "stream",
     "text": [
      "Number of nodes at level 2 : 4\n"
     ]
    }
   ],
   "source": [
    "#3.Count the number of nodes at given level in a tree using BFS\n",
    "class Graph:\n",
    "    def __init__(self):\n",
    "        self.graph = defaultdict(list)\n",
    "\n",
    "    def add_edge(self, u, v):\n",
    "        self.graph[u].append(v)\n",
    "\n",
    "    def count_nodes_at_level(self, start, level):\n",
    "        if start not in self.graph:\n",
    "            return 0\n",
    "\n",
    "        visited = set()\n",
    "        queue = deque()\n",
    "        queue.append(start)\n",
    "        visited.add(start)\n",
    "        current_level = 0\n",
    "\n",
    "        while queue and current_level < level:\n",
    "            node_count = len(queue)\n",
    "            for _ in range(node_count):\n",
    "                node = queue.popleft()\n",
    "\n",
    "                for neighbor in self.graph[node]:\n",
    "                    if neighbor not in visited:\n",
    "                        queue.append(neighbor)\n",
    "                        visited.add(neighbor)\n",
    "\n",
    "            current_level += 1\n",
    "\n",
    "        return len(queue)\n",
    "\n",
    "# Example usage:\n",
    "g = Graph()\n",
    "g.add_edge(0, 1)\n",
    "g.add_edge(0, 2)\n",
    "g.add_edge(1, 3)\n",
    "g.add_edge(1, 4)\n",
    "g.add_edge(2, 5)\n",
    "g.add_edge(2, 6)\n",
    "\n",
    "# Check for a valid level\n",
    "level = 2\n",
    "print(\"Number of nodes at level\", level, \":\", g.count_nodes_at_level(0, level))\n"
   ]
  },
  {
   "cell_type": "code",
   "execution_count": 10,
   "id": "42e7db87",
   "metadata": {},
   "outputs": [
    {
     "name": "stdout",
     "output_type": "stream",
     "text": [
      "Number of trees in the forest: 3\n"
     ]
    }
   ],
   "source": [
    "#4.Count number of trees in a forest\n",
    "from collections import defaultdict, deque\n",
    "from collections import defaultdict\n",
    "\n",
    "class Graph:\n",
    "    def __init__(self):\n",
    "        self.graph = defaultdict(list)\n",
    "\n",
    "    def add_edge(self, u, v):\n",
    "        self.graph[u].append(v)\n",
    "\n",
    "    def count_trees_in_forest(self):\n",
    "        visited = set()\n",
    "        num_trees = 0\n",
    "\n",
    "        def dfs(node):\n",
    "            visited.add(node)\n",
    "\n",
    "            for neighbor in self.graph[node]:\n",
    "                if neighbor not in visited:\n",
    "                    dfs(neighbor)\n",
    "\n",
    "        nodes = list(self.graph.keys())  # Make a list of keys to iterate over\n",
    "        for node in nodes:\n",
    "            if node not in visited:\n",
    "                dfs(node)\n",
    "                num_trees += 1\n",
    "\n",
    "        return num_trees\n",
    "\n",
    "# Example usage:\n",
    "g = Graph()\n",
    "g.add_edge(0, 1)\n",
    "g.add_edge(2, 3)\n",
    "g.add_edge(4, 5)\n",
    "print(\"Number of trees in the forest:\", g.count_trees_in_forest())\n"
   ]
  },
  {
   "cell_type": "code",
   "execution_count": 11,
   "id": "12b51c22",
   "metadata": {},
   "outputs": [
    {
     "name": "stdout",
     "output_type": "stream",
     "text": [
      "Does the directed graph have a cycle? True\n"
     ]
    }
   ],
   "source": [
    "#5.Detect Cycle in a Directed Graph\n",
    "from collections import defaultdict\n",
    "\n",
    "class Graph:\n",
    "    def __init__(self):\n",
    "        self.graph = defaultdict(list)\n",
    "\n",
    "    def add_edge(self, u, v):\n",
    "        self.graph[u].append(v)\n",
    "\n",
    "    def has_cycle(self):\n",
    "        visited = set()\n",
    "        recursion_stack = set()\n",
    "\n",
    "        def is_cyclic(node):\n",
    "            visited.add(node)\n",
    "            recursion_stack.add(node)\n",
    "\n",
    "            for neighbor in self.graph[node]:\n",
    "                if neighbor not in visited:\n",
    "                    if is_cyclic(neighbor):\n",
    "                        return True\n",
    "                elif neighbor in recursion_stack:\n",
    "                    return True\n",
    "\n",
    "            recursion_stack.remove(node)\n",
    "            return False\n",
    "\n",
    "        for node in self.graph:\n",
    "            if node not in visited:\n",
    "                if is_cyclic(node):\n",
    "                    return True\n",
    "\n",
    "        return False\n",
    "\n",
    "# Example usage:\n",
    "g = Graph()\n",
    "g.add_edge(0, 1)\n",
    "g.add_edge(1, 2)\n",
    "g.add_edge(2, 0)\n",
    "print(\"Does the directed graph have a cycle?\", g.has_cycle())\n"
   ]
  },
  {
   "cell_type": "code",
   "execution_count": 12,
   "id": "43ada197",
   "metadata": {},
   "outputs": [
    {
     "name": "stdout",
     "output_type": "stream",
     "text": [
      "Solution 1:\n",
      ".Q..\n",
      "...Q\n",
      "Q...\n",
      "..Q.\n",
      "\n",
      "Solution 2:\n",
      "..Q.\n",
      "Q...\n",
      "...Q\n",
      ".Q..\n",
      "\n"
     ]
    }
   ],
   "source": [
    "#6.**Implement n-Queen’s Problem\n",
    "def is_safe(board, row, col, n):\n",
    "    # Check the column on top\n",
    "    for i in range(row):\n",
    "        if board[i][col] == 1:\n",
    "            return False\n",
    "\n",
    "    # Check upper-left diagonal\n",
    "    for i, j in zip(range(row, -1, -1), range(col, -1, -1)):\n",
    "        if board[i][j] == 1:\n",
    "            return False\n",
    "\n",
    "    # Check upper-right diagonal\n",
    "    for i, j in zip(range(row, -1, -1), range(col, n)):\n",
    "        if board[i][j] == 1:\n",
    "            return False\n",
    "\n",
    "    return True\n",
    "\n",
    "def solve_n_queens_util(board, row, n, solutions):\n",
    "    if row == n:\n",
    "        solutions.append([''.join(['Q' if x == 1 else '.' for x in row]) for row in board])\n",
    "        return\n",
    "\n",
    "    for col in range(n):\n",
    "        if is_safe(board, row, col, n):\n",
    "            board[row][col] = 1\n",
    "            solve_n_queens_util(board, row + 1, n, solutions)\n",
    "            board[row][col] = 0\n",
    "\n",
    "def solve_n_queens(n):\n",
    "    board = [[0 for _ in range(n)] for _ in range(n)]\n",
    "    solutions = []\n",
    "    solve_n_queens_util(board, 0, n, solutions)\n",
    "    return solutions\n",
    "\n",
    "# Example usage:\n",
    "n = 4\n",
    "solutions = solve_n_queens(n)\n",
    "for i, solution in enumerate(solutions):\n",
    "    print(f\"Solution {i + 1}:\")\n",
    "    for row in solution:\n",
    "        print(row)\n",
    "    print()\n"
   ]
  },
  {
   "cell_type": "code",
   "execution_count": null,
   "id": "c97c0561",
   "metadata": {},
   "outputs": [],
   "source": []
  }
 ],
 "metadata": {
  "kernelspec": {
   "display_name": "Python 3 (ipykernel)",
   "language": "python",
   "name": "python3"
  },
  "language_info": {
   "codemirror_mode": {
    "name": "ipython",
    "version": 3
   },
   "file_extension": ".py",
   "mimetype": "text/x-python",
   "name": "python",
   "nbconvert_exporter": "python",
   "pygments_lexer": "ipython3",
   "version": "3.10.9"
  }
 },
 "nbformat": 4,
 "nbformat_minor": 5
}
